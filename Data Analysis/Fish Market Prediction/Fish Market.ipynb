{
 "cells": [
  {
   "cell_type": "code",
   "execution_count": 4,
   "id": "a1065074",
   "metadata": {},
   "outputs": [],
   "source": [
    "import pandas as pd\n",
    "import seaborn as sns\n",
    "import numpy as np\n",
    "import warnings\n",
    "warnings.filterwarnings('ignore')"
   ]
  },
  {
   "cell_type": "code",
   "execution_count": 5,
   "id": "2d89a2b6",
   "metadata": {},
   "outputs": [],
   "source": [
    "dados = pd.read_csv('dados/Fish.csv')"
   ]
  },
  {
   "cell_type": "code",
   "execution_count": 6,
   "id": "27481a54",
   "metadata": {},
   "outputs": [
    {
     "data": {
      "text/html": [
       "<div>\n",
       "<style scoped>\n",
       "    .dataframe tbody tr th:only-of-type {\n",
       "        vertical-align: middle;\n",
       "    }\n",
       "\n",
       "    .dataframe tbody tr th {\n",
       "        vertical-align: top;\n",
       "    }\n",
       "\n",
       "    .dataframe thead th {\n",
       "        text-align: right;\n",
       "    }\n",
       "</style>\n",
       "<table border=\"1\" class=\"dataframe\">\n",
       "  <thead>\n",
       "    <tr style=\"text-align: right;\">\n",
       "      <th></th>\n",
       "      <th>Species</th>\n",
       "      <th>Weight</th>\n",
       "      <th>Length1</th>\n",
       "      <th>Length2</th>\n",
       "      <th>Length3</th>\n",
       "      <th>Height</th>\n",
       "      <th>Width</th>\n",
       "    </tr>\n",
       "  </thead>\n",
       "  <tbody>\n",
       "    <tr>\n",
       "      <th>0</th>\n",
       "      <td>Bream</td>\n",
       "      <td>242.0</td>\n",
       "      <td>23.2</td>\n",
       "      <td>25.4</td>\n",
       "      <td>30.0</td>\n",
       "      <td>11.5200</td>\n",
       "      <td>4.0200</td>\n",
       "    </tr>\n",
       "    <tr>\n",
       "      <th>1</th>\n",
       "      <td>Bream</td>\n",
       "      <td>290.0</td>\n",
       "      <td>24.0</td>\n",
       "      <td>26.3</td>\n",
       "      <td>31.2</td>\n",
       "      <td>12.4800</td>\n",
       "      <td>4.3056</td>\n",
       "    </tr>\n",
       "    <tr>\n",
       "      <th>2</th>\n",
       "      <td>Bream</td>\n",
       "      <td>340.0</td>\n",
       "      <td>23.9</td>\n",
       "      <td>26.5</td>\n",
       "      <td>31.1</td>\n",
       "      <td>12.3778</td>\n",
       "      <td>4.6961</td>\n",
       "    </tr>\n",
       "    <tr>\n",
       "      <th>3</th>\n",
       "      <td>Bream</td>\n",
       "      <td>363.0</td>\n",
       "      <td>26.3</td>\n",
       "      <td>29.0</td>\n",
       "      <td>33.5</td>\n",
       "      <td>12.7300</td>\n",
       "      <td>4.4555</td>\n",
       "    </tr>\n",
       "    <tr>\n",
       "      <th>4</th>\n",
       "      <td>Bream</td>\n",
       "      <td>430.0</td>\n",
       "      <td>26.5</td>\n",
       "      <td>29.0</td>\n",
       "      <td>34.0</td>\n",
       "      <td>12.4440</td>\n",
       "      <td>5.1340</td>\n",
       "    </tr>\n",
       "    <tr>\n",
       "      <th>...</th>\n",
       "      <td>...</td>\n",
       "      <td>...</td>\n",
       "      <td>...</td>\n",
       "      <td>...</td>\n",
       "      <td>...</td>\n",
       "      <td>...</td>\n",
       "      <td>...</td>\n",
       "    </tr>\n",
       "    <tr>\n",
       "      <th>154</th>\n",
       "      <td>Smelt</td>\n",
       "      <td>12.2</td>\n",
       "      <td>11.5</td>\n",
       "      <td>12.2</td>\n",
       "      <td>13.4</td>\n",
       "      <td>2.0904</td>\n",
       "      <td>1.3936</td>\n",
       "    </tr>\n",
       "    <tr>\n",
       "      <th>155</th>\n",
       "      <td>Smelt</td>\n",
       "      <td>13.4</td>\n",
       "      <td>11.7</td>\n",
       "      <td>12.4</td>\n",
       "      <td>13.5</td>\n",
       "      <td>2.4300</td>\n",
       "      <td>1.2690</td>\n",
       "    </tr>\n",
       "    <tr>\n",
       "      <th>156</th>\n",
       "      <td>Smelt</td>\n",
       "      <td>12.2</td>\n",
       "      <td>12.1</td>\n",
       "      <td>13.0</td>\n",
       "      <td>13.8</td>\n",
       "      <td>2.2770</td>\n",
       "      <td>1.2558</td>\n",
       "    </tr>\n",
       "    <tr>\n",
       "      <th>157</th>\n",
       "      <td>Smelt</td>\n",
       "      <td>19.7</td>\n",
       "      <td>13.2</td>\n",
       "      <td>14.3</td>\n",
       "      <td>15.2</td>\n",
       "      <td>2.8728</td>\n",
       "      <td>2.0672</td>\n",
       "    </tr>\n",
       "    <tr>\n",
       "      <th>158</th>\n",
       "      <td>Smelt</td>\n",
       "      <td>19.9</td>\n",
       "      <td>13.8</td>\n",
       "      <td>15.0</td>\n",
       "      <td>16.2</td>\n",
       "      <td>2.9322</td>\n",
       "      <td>1.8792</td>\n",
       "    </tr>\n",
       "  </tbody>\n",
       "</table>\n",
       "<p>159 rows × 7 columns</p>\n",
       "</div>"
      ],
      "text/plain": [
       "    Species  Weight  Length1  Length2  Length3   Height   Width\n",
       "0     Bream   242.0     23.2     25.4     30.0  11.5200  4.0200\n",
       "1     Bream   290.0     24.0     26.3     31.2  12.4800  4.3056\n",
       "2     Bream   340.0     23.9     26.5     31.1  12.3778  4.6961\n",
       "3     Bream   363.0     26.3     29.0     33.5  12.7300  4.4555\n",
       "4     Bream   430.0     26.5     29.0     34.0  12.4440  5.1340\n",
       "..      ...     ...      ...      ...      ...      ...     ...\n",
       "154   Smelt    12.2     11.5     12.2     13.4   2.0904  1.3936\n",
       "155   Smelt    13.4     11.7     12.4     13.5   2.4300  1.2690\n",
       "156   Smelt    12.2     12.1     13.0     13.8   2.2770  1.2558\n",
       "157   Smelt    19.7     13.2     14.3     15.2   2.8728  2.0672\n",
       "158   Smelt    19.9     13.8     15.0     16.2   2.9322  1.8792\n",
       "\n",
       "[159 rows x 7 columns]"
      ]
     },
     "execution_count": 6,
     "metadata": {},
     "output_type": "execute_result"
    }
   ],
   "source": [
    "dados"
   ]
  },
  {
   "cell_type": "code",
   "execution_count": 7,
   "id": "7deea30b",
   "metadata": {},
   "outputs": [
    {
     "data": {
      "text/html": [
       "<div>\n",
       "<style scoped>\n",
       "    .dataframe tbody tr th:only-of-type {\n",
       "        vertical-align: middle;\n",
       "    }\n",
       "\n",
       "    .dataframe tbody tr th {\n",
       "        vertical-align: top;\n",
       "    }\n",
       "\n",
       "    .dataframe thead th {\n",
       "        text-align: right;\n",
       "    }\n",
       "</style>\n",
       "<table border=\"1\" class=\"dataframe\">\n",
       "  <thead>\n",
       "    <tr style=\"text-align: right;\">\n",
       "      <th></th>\n",
       "      <th>Weight</th>\n",
       "      <th>Length1</th>\n",
       "      <th>Length2</th>\n",
       "      <th>Length3</th>\n",
       "      <th>Height</th>\n",
       "      <th>Width</th>\n",
       "    </tr>\n",
       "  </thead>\n",
       "  <tbody>\n",
       "    <tr>\n",
       "      <th>count</th>\n",
       "      <td>159.00</td>\n",
       "      <td>159.00</td>\n",
       "      <td>159.00</td>\n",
       "      <td>159.00</td>\n",
       "      <td>159.00</td>\n",
       "      <td>159.00</td>\n",
       "    </tr>\n",
       "    <tr>\n",
       "      <th>mean</th>\n",
       "      <td>398.33</td>\n",
       "      <td>26.25</td>\n",
       "      <td>28.42</td>\n",
       "      <td>31.23</td>\n",
       "      <td>8.97</td>\n",
       "      <td>4.42</td>\n",
       "    </tr>\n",
       "    <tr>\n",
       "      <th>std</th>\n",
       "      <td>357.98</td>\n",
       "      <td>10.00</td>\n",
       "      <td>10.72</td>\n",
       "      <td>11.61</td>\n",
       "      <td>4.29</td>\n",
       "      <td>1.69</td>\n",
       "    </tr>\n",
       "    <tr>\n",
       "      <th>min</th>\n",
       "      <td>0.00</td>\n",
       "      <td>7.50</td>\n",
       "      <td>8.40</td>\n",
       "      <td>8.80</td>\n",
       "      <td>1.73</td>\n",
       "      <td>1.05</td>\n",
       "    </tr>\n",
       "    <tr>\n",
       "      <th>25%</th>\n",
       "      <td>120.00</td>\n",
       "      <td>19.05</td>\n",
       "      <td>21.00</td>\n",
       "      <td>23.15</td>\n",
       "      <td>5.94</td>\n",
       "      <td>3.39</td>\n",
       "    </tr>\n",
       "    <tr>\n",
       "      <th>50%</th>\n",
       "      <td>273.00</td>\n",
       "      <td>25.20</td>\n",
       "      <td>27.30</td>\n",
       "      <td>29.40</td>\n",
       "      <td>7.79</td>\n",
       "      <td>4.25</td>\n",
       "    </tr>\n",
       "    <tr>\n",
       "      <th>75%</th>\n",
       "      <td>650.00</td>\n",
       "      <td>32.70</td>\n",
       "      <td>35.50</td>\n",
       "      <td>39.65</td>\n",
       "      <td>12.37</td>\n",
       "      <td>5.58</td>\n",
       "    </tr>\n",
       "    <tr>\n",
       "      <th>max</th>\n",
       "      <td>1650.00</td>\n",
       "      <td>59.00</td>\n",
       "      <td>63.40</td>\n",
       "      <td>68.00</td>\n",
       "      <td>18.96</td>\n",
       "      <td>8.14</td>\n",
       "    </tr>\n",
       "  </tbody>\n",
       "</table>\n",
       "</div>"
      ],
      "text/plain": [
       "        Weight  Length1  Length2  Length3  Height   Width\n",
       "count   159.00   159.00   159.00   159.00  159.00  159.00\n",
       "mean    398.33    26.25    28.42    31.23    8.97    4.42\n",
       "std     357.98    10.00    10.72    11.61    4.29    1.69\n",
       "min       0.00     7.50     8.40     8.80    1.73    1.05\n",
       "25%     120.00    19.05    21.00    23.15    5.94    3.39\n",
       "50%     273.00    25.20    27.30    29.40    7.79    4.25\n",
       "75%     650.00    32.70    35.50    39.65   12.37    5.58\n",
       "max    1650.00    59.00    63.40    68.00   18.96    8.14"
      ]
     },
     "execution_count": 7,
     "metadata": {},
     "output_type": "execute_result"
    }
   ],
   "source": [
    "dados.describe().round(2)"
   ]
  },
  {
   "cell_type": "code",
   "execution_count": 8,
   "id": "e9a6945e",
   "metadata": {},
   "outputs": [
    {
     "data": {
      "text/html": [
       "<div>\n",
       "<style scoped>\n",
       "    .dataframe tbody tr th:only-of-type {\n",
       "        vertical-align: middle;\n",
       "    }\n",
       "\n",
       "    .dataframe tbody tr th {\n",
       "        vertical-align: top;\n",
       "    }\n",
       "\n",
       "    .dataframe thead th {\n",
       "        text-align: right;\n",
       "    }\n",
       "</style>\n",
       "<table border=\"1\" class=\"dataframe\">\n",
       "  <thead>\n",
       "    <tr style=\"text-align: right;\">\n",
       "      <th></th>\n",
       "      <th>Weight</th>\n",
       "      <th>Length1</th>\n",
       "      <th>Length2</th>\n",
       "      <th>Length3</th>\n",
       "      <th>Height</th>\n",
       "      <th>Width</th>\n",
       "    </tr>\n",
       "  </thead>\n",
       "  <tbody>\n",
       "    <tr>\n",
       "      <th>Weight</th>\n",
       "      <td>1.0000</td>\n",
       "      <td>0.9157</td>\n",
       "      <td>0.9186</td>\n",
       "      <td>0.9230</td>\n",
       "      <td>0.7243</td>\n",
       "      <td>0.8865</td>\n",
       "    </tr>\n",
       "    <tr>\n",
       "      <th>Length1</th>\n",
       "      <td>0.9157</td>\n",
       "      <td>1.0000</td>\n",
       "      <td>0.9995</td>\n",
       "      <td>0.9920</td>\n",
       "      <td>0.6254</td>\n",
       "      <td>0.8670</td>\n",
       "    </tr>\n",
       "    <tr>\n",
       "      <th>Length2</th>\n",
       "      <td>0.9186</td>\n",
       "      <td>0.9995</td>\n",
       "      <td>1.0000</td>\n",
       "      <td>0.9941</td>\n",
       "      <td>0.6404</td>\n",
       "      <td>0.8735</td>\n",
       "    </tr>\n",
       "    <tr>\n",
       "      <th>Length3</th>\n",
       "      <td>0.9230</td>\n",
       "      <td>0.9920</td>\n",
       "      <td>0.9941</td>\n",
       "      <td>1.0000</td>\n",
       "      <td>0.7034</td>\n",
       "      <td>0.8785</td>\n",
       "    </tr>\n",
       "    <tr>\n",
       "      <th>Height</th>\n",
       "      <td>0.7243</td>\n",
       "      <td>0.6254</td>\n",
       "      <td>0.6404</td>\n",
       "      <td>0.7034</td>\n",
       "      <td>1.0000</td>\n",
       "      <td>0.7929</td>\n",
       "    </tr>\n",
       "    <tr>\n",
       "      <th>Width</th>\n",
       "      <td>0.8865</td>\n",
       "      <td>0.8670</td>\n",
       "      <td>0.8735</td>\n",
       "      <td>0.8785</td>\n",
       "      <td>0.7929</td>\n",
       "      <td>1.0000</td>\n",
       "    </tr>\n",
       "  </tbody>\n",
       "</table>\n",
       "</div>"
      ],
      "text/plain": [
       "         Weight  Length1  Length2  Length3  Height   Width\n",
       "Weight   1.0000   0.9157   0.9186   0.9230  0.7243  0.8865\n",
       "Length1  0.9157   1.0000   0.9995   0.9920  0.6254  0.8670\n",
       "Length2  0.9186   0.9995   1.0000   0.9941  0.6404  0.8735\n",
       "Length3  0.9230   0.9920   0.9941   1.0000  0.7034  0.8785\n",
       "Height   0.7243   0.6254   0.6404   0.7034  1.0000  0.7929\n",
       "Width    0.8865   0.8670   0.8735   0.8785  0.7929  1.0000"
      ]
     },
     "execution_count": 8,
     "metadata": {},
     "output_type": "execute_result"
    }
   ],
   "source": [
    "dados.corr().round(4)"
   ]
  },
  {
   "cell_type": "code",
   "execution_count": 9,
   "id": "a20c8fb7",
   "metadata": {},
   "outputs": [
    {
     "data": {
      "text/plain": [
       "<AxesSubplot:title={'center':'Fish Weight'}>"
      ]
     },
     "execution_count": 9,
     "metadata": {},
     "output_type": "execute_result"
    },
    {
     "data": {
      "image/png": "[encoded data removed]",
      "text/plain": [
       "<Figure size 1440x432 with 1 Axes>"
      ]
     },
     "metadata": {
      "needs_background": "light"
     },
     "output_type": "display_data"
    }
   ],
   "source": [
    "ax = sns.boxplot(data = dados['Weight'], orient = 'h', width = 0.3)\n",
    "ax.figure.set_size_inches(20, 6)\n",
    "ax.set_title('Fish Weight', fontsize=20)\n",
    "ax"
   ]
  },
  {
   "cell_type": "markdown",
   "id": "4667496f",
   "metadata": {},
   "source": [
    "## Dropping outliers"
   ]
  },
  {
   "cell_type": "code",
   "execution_count": 10,
   "id": "d9c4bc61",
   "metadata": {},
   "outputs": [
    {
     "name": "stdout",
     "output_type": "stream",
     "text": [
      "(array([142, 143, 144]),)\n"
     ]
    }
   ],
   "source": [
    "print(np.where(dados['Weight']>1400))"
   ]
  },
  {
   "cell_type": "code",
   "execution_count": 11,
   "id": "57db517a",
   "metadata": {},
   "outputs": [],
   "source": [
    "dados.drop([142, 143, 144], inplace = True)\n",
    "\n"
   ]
  },
  {
   "cell_type": "code",
   "execution_count": 12,
   "id": "ab23a11b",
   "metadata": {},
   "outputs": [
    {
     "data": {
      "text/plain": [
       "<AxesSubplot:title={'center':'Fish Weight'}>"
      ]
     },
     "execution_count": 12,
     "metadata": {},
     "output_type": "execute_result"
    },
    {
     "data": {
      "image/png": "[encoded data removed]",
      "text/plain": [
       "<Figure size 1440x432 with 1 Axes>"
      ]
     },
     "metadata": {
      "needs_background": "light"
     },
     "output_type": "display_data"
    }
   ],
   "source": [
    "ax = sns.boxplot(data = dados['Weight'], orient = 'h', width = 0.3)\n",
    "ax.figure.set_size_inches(20, 6)\n",
    "ax.set_title('Fish Weight', fontsize=20)\n",
    "ax"
   ]
  },
  {
   "cell_type": "code",
   "execution_count": 13,
   "id": "6831f0c0",
   "metadata": {},
   "outputs": [
    {
     "data": {
      "text/plain": [
       "<AxesSubplot:title={'center':'Fish Weight'}, xlabel='Weight', ylabel='Density'>"
      ]
     },
     "execution_count": 13,
     "metadata": {},
     "output_type": "execute_result"
    },
    {
     "data": {
      "image/png": "[encoded data removed]",
      "text/plain": [
       "<Figure size 1440x432 with 1 Axes>"
      ]
     },
     "metadata": {
      "needs_background": "light"
     },
     "output_type": "display_data"
    }
   ],
   "source": [
    "ax = sns.distplot(dados['Weight'])\n",
    "ax.figure.set_size_inches(20, 6)\n",
    "ax.set_title('Fish Weight', fontsize=20)\n",
    "ax"
   ]
  },
  {
   "cell_type": "code",
   "execution_count": 14,
   "id": "dac500cd",
   "metadata": {},
   "outputs": [
    {
     "data": {
      "text/plain": [
       "<seaborn.axisgrid.PairGrid at 0x7fdbe99b6490>"
      ]
     },
     "execution_count": 14,
     "metadata": {},
     "output_type": "execute_result"
    },
    {
     "data": {
      "image/png": "[encoded data removed]",
      "text/plain": [
       "<Figure size 983.25x180 with 5 Axes>"
      ]
     },
     "metadata": {
      "needs_background": "light"
     },
     "output_type": "display_data"
    }
   ],
   "source": [
    "sns.pairplot(dados,\n",
    "             x_vars=['Length1','Length2','Length3','Height','Width'],\n",
    "            y_vars=['Weight'],hue='Species')"
   ]
  },
  {
   "cell_type": "code",
   "execution_count": 15,
   "id": "6431d699",
   "metadata": {},
   "outputs": [],
   "source": [
    "dados['log_Weight'] = np.log(dados['Weight'] + 1)\n",
    "dados['log_Length1'] = np.log(dados['Length1'])\n",
    "dados['log_Length2'] = np.log(dados['Length2'])\n",
    "dados['log_Length3'] = np.log(dados['Length3'])\n",
    "dados['log_Height'] = np.log(dados['Height'])\n",
    "dados['log_Width'] = np.log(dados['Width'])"
   ]
  },
  {
   "cell_type": "code",
   "execution_count": 16,
   "id": "ce5c7da2",
   "metadata": {},
   "outputs": [
    {
     "data": {
      "text/html": [
       "<div>\n",
       "<style scoped>\n",
       "    .dataframe tbody tr th:only-of-type {\n",
       "        vertical-align: middle;\n",
       "    }\n",
       "\n",
       "    .dataframe tbody tr th {\n",
       "        vertical-align: top;\n",
       "    }\n",
       "\n",
       "    .dataframe thead th {\n",
       "        text-align: right;\n",
       "    }\n",
       "</style>\n",
       "<table border=\"1\" class=\"dataframe\">\n",
       "  <thead>\n",
       "    <tr style=\"text-align: right;\">\n",
       "      <th></th>\n",
       "      <th>Species</th>\n",
       "      <th>Weight</th>\n",
       "      <th>Length1</th>\n",
       "      <th>Length2</th>\n",
       "      <th>Length3</th>\n",
       "      <th>Height</th>\n",
       "      <th>Width</th>\n",
       "      <th>log_Weight</th>\n",
       "      <th>log_Length1</th>\n",
       "      <th>log_Length2</th>\n",
       "      <th>log_Length3</th>\n",
       "      <th>log_Height</th>\n",
       "      <th>log_Width</th>\n",
       "    </tr>\n",
       "  </thead>\n",
       "  <tbody>\n",
       "    <tr>\n",
       "      <th>0</th>\n",
       "      <td>Bream</td>\n",
       "      <td>242.0</td>\n",
       "      <td>23.2</td>\n",
       "      <td>25.4</td>\n",
       "      <td>30.0</td>\n",
       "      <td>11.5200</td>\n",
       "      <td>4.0200</td>\n",
       "      <td>5.493061</td>\n",
       "      <td>3.144152</td>\n",
       "      <td>3.234749</td>\n",
       "      <td>3.401197</td>\n",
       "      <td>2.444085</td>\n",
       "      <td>1.391282</td>\n",
       "    </tr>\n",
       "    <tr>\n",
       "      <th>1</th>\n",
       "      <td>Bream</td>\n",
       "      <td>290.0</td>\n",
       "      <td>24.0</td>\n",
       "      <td>26.3</td>\n",
       "      <td>31.2</td>\n",
       "      <td>12.4800</td>\n",
       "      <td>4.3056</td>\n",
       "      <td>5.673323</td>\n",
       "      <td>3.178054</td>\n",
       "      <td>3.269569</td>\n",
       "      <td>3.440418</td>\n",
       "      <td>2.524127</td>\n",
       "      <td>1.459917</td>\n",
       "    </tr>\n",
       "    <tr>\n",
       "      <th>2</th>\n",
       "      <td>Bream</td>\n",
       "      <td>340.0</td>\n",
       "      <td>23.9</td>\n",
       "      <td>26.5</td>\n",
       "      <td>31.1</td>\n",
       "      <td>12.3778</td>\n",
       "      <td>4.6961</td>\n",
       "      <td>5.831882</td>\n",
       "      <td>3.173878</td>\n",
       "      <td>3.277145</td>\n",
       "      <td>3.437208</td>\n",
       "      <td>2.515905</td>\n",
       "      <td>1.546732</td>\n",
       "    </tr>\n",
       "    <tr>\n",
       "      <th>3</th>\n",
       "      <td>Bream</td>\n",
       "      <td>363.0</td>\n",
       "      <td>26.3</td>\n",
       "      <td>29.0</td>\n",
       "      <td>33.5</td>\n",
       "      <td>12.7300</td>\n",
       "      <td>4.4555</td>\n",
       "      <td>5.897154</td>\n",
       "      <td>3.269569</td>\n",
       "      <td>3.367296</td>\n",
       "      <td>3.511545</td>\n",
       "      <td>2.543961</td>\n",
       "      <td>1.494139</td>\n",
       "    </tr>\n",
       "    <tr>\n",
       "      <th>4</th>\n",
       "      <td>Bream</td>\n",
       "      <td>430.0</td>\n",
       "      <td>26.5</td>\n",
       "      <td>29.0</td>\n",
       "      <td>34.0</td>\n",
       "      <td>12.4440</td>\n",
       "      <td>5.1340</td>\n",
       "      <td>6.066108</td>\n",
       "      <td>3.277145</td>\n",
       "      <td>3.367296</td>\n",
       "      <td>3.526361</td>\n",
       "      <td>2.521239</td>\n",
       "      <td>1.635885</td>\n",
       "    </tr>\n",
       "  </tbody>\n",
       "</table>\n",
       "</div>"
      ],
      "text/plain": [
       "  Species  Weight  Length1  Length2  Length3   Height   Width  log_Weight  \\\n",
       "0   Bream   242.0     23.2     25.4     30.0  11.5200  4.0200    5.493061   \n",
       "1   Bream   290.0     24.0     26.3     31.2  12.4800  4.3056    5.673323   \n",
       "2   Bream   340.0     23.9     26.5     31.1  12.3778  4.6961    5.831882   \n",
       "3   Bream   363.0     26.3     29.0     33.5  12.7300  4.4555    5.897154   \n",
       "4   Bream   430.0     26.5     29.0     34.0  12.4440  5.1340    6.066108   \n",
       "\n",
       "   log_Length1  log_Length2  log_Length3  log_Height  log_Width  \n",
       "0     3.144152     3.234749     3.401197    2.444085   1.391282  \n",
       "1     3.178054     3.269569     3.440418    2.524127   1.459917  \n",
       "2     3.173878     3.277145     3.437208    2.515905   1.546732  \n",
       "3     3.269569     3.367296     3.511545    2.543961   1.494139  \n",
       "4     3.277145     3.367296     3.526361    2.521239   1.635885  "
      ]
     },
     "execution_count": 16,
     "metadata": {},
     "output_type": "execute_result"
    }
   ],
   "source": [
    "dados.head()"
   ]
  },
  {
   "cell_type": "code",
   "execution_count": 17,
   "id": "8222bef7",
   "metadata": {},
   "outputs": [
    {
     "data": {
      "text/plain": [
       "<AxesSubplot:title={'center':'Distribuição de Frequências'}, xlabel='log do Peso dos Peixes', ylabel='Density'>"
      ]
     },
     "execution_count": 17,
     "metadata": {},
     "output_type": "execute_result"
    },
    {
     "data": {
      "image/png": "[encoded data removed]",
      "text/plain": [
       "<Figure size 1440x432 with 1 Axes>"
      ]
     },
     "metadata": {
      "needs_background": "light"
     },
     "output_type": "display_data"
    }
   ],
   "source": [
    "ax = sns.distplot(dados['log_Weight'])\n",
    "ax.figure.set_size_inches(20, 6)\n",
    "ax.set_title('Distribuição de Frequências', fontsize=20)\n",
    "ax.set_xlabel('log do Peso dos Peixes', fontsize=16)\n",
    "ax"
   ]
  },
  {
   "cell_type": "code",
   "execution_count": 18,
   "id": "9fa119aa",
   "metadata": {},
   "outputs": [
    {
     "data": {
      "text/plain": [
       "<seaborn.axisgrid.PairGrid at 0x7fdbe9d6b2e0>"
      ]
     },
     "execution_count": 18,
     "metadata": {},
     "output_type": "execute_result"
    },
    {
     "data": {
      "image/png": "[encoded data removed]",
      "text/plain": [
       "<Figure size 983.25x180 with 5 Axes>"
      ]
     },
     "metadata": {
      "needs_background": "light"
     },
     "output_type": "display_data"
    }
   ],
   "source": [
    "sns.pairplot(dados,\n",
    "             x_vars=['log_Length1','log_Length2','log_Length3','log_Height','log_Width'],\n",
    "            y_vars=['Weight'],hue='Species')"
   ]
  },
  {
   "cell_type": "code",
   "execution_count": 20,
   "id": "d05b346b",
   "metadata": {},
   "outputs": [],
   "source": [
    "from sklearn.model_selection import train_test_split"
   ]
  },
  {
   "cell_type": "code",
   "execution_count": 21,
   "id": "7983e724",
   "metadata": {},
   "outputs": [],
   "source": [
    "X = dados[['log_Length1', 'log_Height', 'log_Width']]"
   ]
  },
  {
   "cell_type": "code",
   "execution_count": 22,
   "id": "1902ca64",
   "metadata": {},
   "outputs": [],
   "source": [
    "y = dados['log_Weight']"
   ]
  },
  {
   "cell_type": "code",
   "execution_count": 23,
   "id": "7a8f9e2f",
   "metadata": {},
   "outputs": [],
   "source": [
    "X_train, X_test, y_train, y_test = train_test_split(X, y, test_size = 0.2, random_state = 2811)"
   ]
  },
  {
   "cell_type": "code",
   "execution_count": 32,
   "id": "a51d239b",
   "metadata": {},
   "outputs": [],
   "source": [
    "import statsmodels.api as sm"
   ]
  },
  {
   "cell_type": "code",
   "execution_count": 33,
   "id": "3a5918bf",
   "metadata": {},
   "outputs": [],
   "source": [
    "X_train_constant = sm.add_constant(X_train)"
   ]
  },
  {
   "cell_type": "code",
   "execution_count": 34,
   "id": "6e1ddcd8",
   "metadata": {},
   "outputs": [
    {
     "data": {
      "text/html": [
       "<div>\n",
       "<style scoped>\n",
       "    .dataframe tbody tr th:only-of-type {\n",
       "        vertical-align: middle;\n",
       "    }\n",
       "\n",
       "    .dataframe tbody tr th {\n",
       "        vertical-align: top;\n",
       "    }\n",
       "\n",
       "    .dataframe thead th {\n",
       "        text-align: right;\n",
       "    }\n",
       "</style>\n",
       "<table border=\"1\" class=\"dataframe\">\n",
       "  <thead>\n",
       "    <tr style=\"text-align: right;\">\n",
       "      <th></th>\n",
       "      <th>const</th>\n",
       "      <th>log_Length1</th>\n",
       "      <th>log_Height</th>\n",
       "      <th>log_Width</th>\n",
       "    </tr>\n",
       "  </thead>\n",
       "  <tbody>\n",
       "    <tr>\n",
       "      <th>69</th>\n",
       "      <td>1.0</td>\n",
       "      <td>3.054001</td>\n",
       "      <td>2.336581</td>\n",
       "      <td>1.298446</td>\n",
       "    </tr>\n",
       "    <tr>\n",
       "      <th>103</th>\n",
       "      <td>1.0</td>\n",
       "      <td>3.234749</td>\n",
       "      <td>1.969515</td>\n",
       "      <td>1.466722</td>\n",
       "    </tr>\n",
       "    <tr>\n",
       "      <th>127</th>\n",
       "      <td>1.0</td>\n",
       "      <td>3.716008</td>\n",
       "      <td>2.524832</td>\n",
       "      <td>2.027595</td>\n",
       "    </tr>\n",
       "    <tr>\n",
       "      <th>83</th>\n",
       "      <td>1.0</td>\n",
       "      <td>2.944439</td>\n",
       "      <td>1.777914</td>\n",
       "      <td>1.196193</td>\n",
       "    </tr>\n",
       "    <tr>\n",
       "      <th>61</th>\n",
       "      <td>1.0</td>\n",
       "      <td>2.602690</td>\n",
       "      <td>1.923884</td>\n",
       "      <td>0.844365</td>\n",
       "    </tr>\n",
       "    <tr>\n",
       "      <th>...</th>\n",
       "      <td>...</td>\n",
       "      <td>...</td>\n",
       "      <td>...</td>\n",
       "      <td>...</td>\n",
       "    </tr>\n",
       "    <tr>\n",
       "      <th>28</th>\n",
       "      <td>1.0</td>\n",
       "      <td>3.490429</td>\n",
       "      <td>2.826698</td>\n",
       "      <td>1.824291</td>\n",
       "    </tr>\n",
       "    <tr>\n",
       "      <th>73</th>\n",
       "      <td>1.0</td>\n",
       "      <td>2.525729</td>\n",
       "      <td>1.260731</td>\n",
       "      <td>0.692747</td>\n",
       "    </tr>\n",
       "    <tr>\n",
       "      <th>68</th>\n",
       "      <td>1.0</td>\n",
       "      <td>2.985682</td>\n",
       "      <td>2.275871</td>\n",
       "      <td>1.149654</td>\n",
       "    </tr>\n",
       "    <tr>\n",
       "      <th>85</th>\n",
       "      <td>1.0</td>\n",
       "      <td>2.960105</td>\n",
       "      <td>1.853795</td>\n",
       "      <td>1.262430</td>\n",
       "    </tr>\n",
       "    <tr>\n",
       "      <th>84</th>\n",
       "      <td>1.0</td>\n",
       "      <td>2.944439</td>\n",
       "      <td>1.739150</td>\n",
       "      <td>1.299510</td>\n",
       "    </tr>\n",
       "  </tbody>\n",
       "</table>\n",
       "<p>124 rows × 4 columns</p>\n",
       "</div>"
      ],
      "text/plain": [
       "     const  log_Length1  log_Height  log_Width\n",
       "69     1.0     3.054001    2.336581   1.298446\n",
       "103    1.0     3.234749    1.969515   1.466722\n",
       "127    1.0     3.716008    2.524832   2.027595\n",
       "83     1.0     2.944439    1.777914   1.196193\n",
       "61     1.0     2.602690    1.923884   0.844365\n",
       "..     ...          ...         ...        ...\n",
       "28     1.0     3.490429    2.826698   1.824291\n",
       "73     1.0     2.525729    1.260731   0.692747\n",
       "68     1.0     2.985682    2.275871   1.149654\n",
       "85     1.0     2.960105    1.853795   1.262430\n",
       "84     1.0     2.944439    1.739150   1.299510\n",
       "\n",
       "[124 rows x 4 columns]"
      ]
     },
     "execution_count": 34,
     "metadata": {},
     "output_type": "execute_result"
    }
   ],
   "source": [
    "X_train_constant"
   ]
  },
  {
   "cell_type": "code",
   "execution_count": 36,
   "id": "86decd08",
   "metadata": {},
   "outputs": [],
   "source": [
    "modelo_statsmodels = sm.OLS(y_train, X_train_constant, hasconst = True).fit()"
   ]
  },
  {
   "cell_type": "code",
   "execution_count": 37,
   "id": "cad79e85",
   "metadata": {},
   "outputs": [
    {
     "data": {
      "text/html": [
       "<table class=\"simpletable\">\n",
       "<caption>OLS Regression Results</caption>\n",
       "<tr>\n",
       "  <th>Dep. Variable:</th>       <td>log_Weight</td>    <th>  R-squared:         </th> <td>   0.893</td>\n",
       "</tr>\n",
       "<tr>\n",
       "  <th>Model:</th>                   <td>OLS</td>       <th>  Adj. R-squared:    </th> <td>   0.890</td>\n",
       "</tr>\n",
       "<tr>\n",
       "  <th>Method:</th>             <td>Least Squares</td>  <th>  F-statistic:       </th> <td>   334.4</td>\n",
       "</tr>\n",
       "<tr>\n",
       "  <th>Date:</th>             <td>Mon, 24 Oct 2022</td> <th>  Prob (F-statistic):</th> <td>4.42e-58</td>\n",
       "</tr>\n",
       "<tr>\n",
       "  <th>Time:</th>                 <td>20:47:07</td>     <th>  Log-Likelihood:    </th> <td> -73.518</td>\n",
       "</tr>\n",
       "<tr>\n",
       "  <th>No. Observations:</th>      <td>   124</td>      <th>  AIC:               </th> <td>   155.0</td>\n",
       "</tr>\n",
       "<tr>\n",
       "  <th>Df Residuals:</th>          <td>   120</td>      <th>  BIC:               </th> <td>   166.3</td>\n",
       "</tr>\n",
       "<tr>\n",
       "  <th>Df Model:</th>              <td>     3</td>      <th>                     </th>     <td> </td>   \n",
       "</tr>\n",
       "<tr>\n",
       "  <th>Covariance Type:</th>      <td>nonrobust</td>    <th>                     </th>     <td> </td>   \n",
       "</tr>\n",
       "</table>\n",
       "<table class=\"simpletable\">\n",
       "<tr>\n",
       "       <td></td>          <th>coef</th>     <th>std err</th>      <th>t</th>      <th>P>|t|</th>  <th>[0.025</th>    <th>0.975]</th>  \n",
       "</tr>\n",
       "<tr>\n",
       "  <th>const</th>       <td>   -2.0238</td> <td>    0.613</td> <td>   -3.300</td> <td> 0.001</td> <td>   -3.238</td> <td>   -0.809</td>\n",
       "</tr>\n",
       "<tr>\n",
       "  <th>log_Length1</th> <td>    1.5569</td> <td>    0.280</td> <td>    5.554</td> <td> 0.000</td> <td>    1.002</td> <td>    2.112</td>\n",
       "</tr>\n",
       "<tr>\n",
       "  <th>log_Height</th>  <td>    0.6192</td> <td>    0.164</td> <td>    3.787</td> <td> 0.000</td> <td>    0.295</td> <td>    0.943</td>\n",
       "</tr>\n",
       "<tr>\n",
       "  <th>log_Width</th>   <td>    0.8381</td> <td>    0.312</td> <td>    2.685</td> <td> 0.008</td> <td>    0.220</td> <td>    1.456</td>\n",
       "</tr>\n",
       "</table>\n",
       "<table class=\"simpletable\">\n",
       "<tr>\n",
       "  <th>Omnibus:</th>       <td>257.673</td> <th>  Durbin-Watson:     </th> <td>   2.019</td> \n",
       "</tr>\n",
       "<tr>\n",
       "  <th>Prob(Omnibus):</th> <td> 0.000</td>  <th>  Jarque-Bera (JB):  </th> <td>61281.121</td>\n",
       "</tr>\n",
       "<tr>\n",
       "  <th>Skew:</th>          <td>-10.171</td> <th>  Prob(JB):          </th> <td>    0.00</td> \n",
       "</tr>\n",
       "<tr>\n",
       "  <th>Kurtosis:</th>      <td>109.991</td> <th>  Cond. No.          </th> <td>    75.8</td> \n",
       "</tr>\n",
       "</table><br/><br/>Notes:<br/>[1] Standard Errors assume that the covariance matrix of the errors is correctly specified."
      ],
      "text/plain": [
       "<class 'statsmodels.iolib.summary.Summary'>\n",
       "\"\"\"\n",
       "                            OLS Regression Results                            \n",
       "==============================================================================\n",
       "Dep. Variable:             log_Weight   R-squared:                       0.893\n",
       "Model:                            OLS   Adj. R-squared:                  0.890\n",
       "Method:                 Least Squares   F-statistic:                     334.4\n",
       "Date:                Mon, 24 Oct 2022   Prob (F-statistic):           4.42e-58\n",
       "Time:                        20:47:07   Log-Likelihood:                -73.518\n",
       "No. Observations:                 124   AIC:                             155.0\n",
       "Df Residuals:                     120   BIC:                             166.3\n",
       "Df Model:                           3                                         \n",
       "Covariance Type:            nonrobust                                         \n",
       "===============================================================================\n",
       "                  coef    std err          t      P>|t|      [0.025      0.975]\n",
       "-------------------------------------------------------------------------------\n",
       "const          -2.0238      0.613     -3.300      0.001      -3.238      -0.809\n",
       "log_Length1     1.5569      0.280      5.554      0.000       1.002       2.112\n",
       "log_Height      0.6192      0.164      3.787      0.000       0.295       0.943\n",
       "log_Width       0.8381      0.312      2.685      0.008       0.220       1.456\n",
       "==============================================================================\n",
       "Omnibus:                      257.673   Durbin-Watson:                   2.019\n",
       "Prob(Omnibus):                  0.000   Jarque-Bera (JB):            61281.121\n",
       "Skew:                         -10.171   Prob(JB):                         0.00\n",
       "Kurtosis:                     109.991   Cond. No.                         75.8\n",
       "==============================================================================\n",
       "\n",
       "Notes:\n",
       "[1] Standard Errors assume that the covariance matrix of the errors is correctly specified.\n",
       "\"\"\""
      ]
     },
     "execution_count": 37,
     "metadata": {},
     "output_type": "execute_result"
    }
   ],
   "source": [
    "modelo_statsmodels.summary()"
   ]
  },
  {
   "cell_type": "code",
   "execution_count": 38,
   "id": "d92d9cc4",
   "metadata": {},
   "outputs": [],
   "source": [
    "from sklearn.linear_model import LinearRegression\n",
    "from sklearn import metrics"
   ]
  },
  {
   "cell_type": "code",
   "execution_count": 39,
   "id": "d965338d",
   "metadata": {},
   "outputs": [],
   "source": [
    "modelo = LinearRegression()"
   ]
  },
  {
   "cell_type": "code",
   "execution_count": 40,
   "id": "1b1c7068",
   "metadata": {},
   "outputs": [
    {
     "data": {
      "text/plain": [
       "LinearRegression()"
      ]
     },
     "execution_count": 40,
     "metadata": {},
     "output_type": "execute_result"
    }
   ],
   "source": [
    "modelo.fit(X_train, y_train)"
   ]
  },
  {
   "cell_type": "code",
   "execution_count": 41,
   "id": "a293134b",
   "metadata": {},
   "outputs": [
    {
     "name": "stdout",
     "output_type": "stream",
     "text": [
      "R**2 = 0.893\n"
     ]
    }
   ],
   "source": [
    "print(f'R**2 = {modelo.score(X_train, y_train).round(3)}')"
   ]
  },
  {
   "cell_type": "code",
   "execution_count": 42,
   "id": "3f9f7cf5",
   "metadata": {},
   "outputs": [],
   "source": [
    "y_previsto = modelo.predict(X_test)"
   ]
  },
  {
   "cell_type": "code",
   "execution_count": 43,
   "id": "8bab323a",
   "metadata": {},
   "outputs": [
    {
     "name": "stdout",
     "output_type": "stream",
     "text": [
      "R**2 = 0.997\n"
     ]
    }
   ],
   "source": [
    "print(f'R**2 = {metrics.r2_score(y_test, y_previsto).round(3)}')"
   ]
  },
  {
   "cell_type": "code",
   "execution_count": 44,
   "id": "bc58b1d8",
   "metadata": {},
   "outputs": [
    {
     "data": {
      "text/html": [
       "<div>\n",
       "<style scoped>\n",
       "    .dataframe tbody tr th:only-of-type {\n",
       "        vertical-align: middle;\n",
       "    }\n",
       "\n",
       "    .dataframe tbody tr th {\n",
       "        vertical-align: top;\n",
       "    }\n",
       "\n",
       "    .dataframe thead th {\n",
       "        text-align: right;\n",
       "    }\n",
       "</style>\n",
       "<table border=\"1\" class=\"dataframe\">\n",
       "  <thead>\n",
       "    <tr style=\"text-align: right;\">\n",
       "      <th></th>\n",
       "      <th>log_Length1</th>\n",
       "      <th>log_Height</th>\n",
       "      <th>log_Width</th>\n",
       "    </tr>\n",
       "  </thead>\n",
       "  <tbody>\n",
       "    <tr>\n",
       "      <th>122</th>\n",
       "      <td>3.613617</td>\n",
       "      <td>2.410093</td>\n",
       "      <td>1.891605</td>\n",
       "    </tr>\n",
       "  </tbody>\n",
       "</table>\n",
       "</div>"
      ],
      "text/plain": [
       "     log_Length1  log_Height  log_Width\n",
       "122     3.613617    2.410093   1.891605"
      ]
     },
     "execution_count": 44,
     "metadata": {},
     "output_type": "execute_result"
    }
   ],
   "source": [
    "entrada = X_test[0:1]\n",
    "entrada"
   ]
  },
  {
   "cell_type": "code",
   "execution_count": 45,
   "id": "5211ac10",
   "metadata": {},
   "outputs": [
    {
     "data": {
      "text/plain": [
       "6.679994480159444"
      ]
     },
     "execution_count": 45,
     "metadata": {},
     "output_type": "execute_result"
    }
   ],
   "source": [
    "modelo.predict(entrada)[0]"
   ]
  },
  {
   "cell_type": "code",
   "execution_count": 46,
   "id": "b9a52572",
   "metadata": {},
   "outputs": [
    {
     "name": "stdout",
     "output_type": "stream",
     "text": [
      "Weight: 796.31 gramas.\n"
     ]
    }
   ],
   "source": [
    "Length1 = 37.1\n",
    "Height = 11.135\n",
    "Width = 6.63\n",
    "entrada = [[np.log(Length1), np.log(Height), np.log(Width)]]\n",
    "\n",
    "print(f'Weight: {np.exp(modelo.predict(entrada))[0]:.2f} gramas.')"
   ]
  },
  {
   "cell_type": "code",
   "execution_count": 47,
   "id": "478735ff",
   "metadata": {},
   "outputs": [
    {
     "data": {
      "text/plain": [
       "-2.02380213718438"
      ]
     },
     "execution_count": 47,
     "metadata": {},
     "output_type": "execute_result"
    }
   ],
   "source": [
    "modelo.intercept_"
   ]
  },
  {
   "cell_type": "code",
   "execution_count": 48,
   "id": "fe383a23",
   "metadata": {},
   "outputs": [
    {
     "data": {
      "text/plain": [
       "0.1321520484396528"
      ]
     },
     "execution_count": 48,
     "metadata": {},
     "output_type": "execute_result"
    }
   ],
   "source": [
    "np.exp(modelo.intercept_)"
   ]
  },
  {
   "cell_type": "code",
   "execution_count": 49,
   "id": "99587c91",
   "metadata": {},
   "outputs": [
    {
     "data": {
      "text/plain": [
       "array([1.5569377 , 0.61917892, 0.83809321])"
      ]
     },
     "execution_count": 49,
     "metadata": {},
     "output_type": "execute_result"
    }
   ],
   "source": [
    "modelo.coef_"
   ]
  },
  {
   "cell_type": "code",
   "execution_count": 50,
   "id": "6993084b",
   "metadata": {},
   "outputs": [
    {
     "data": {
      "text/plain": [
       "Index(['log_Length1', 'log_Height', 'log_Width'], dtype='object')"
      ]
     },
     "execution_count": 50,
     "metadata": {},
     "output_type": "execute_result"
    }
   ],
   "source": [
    "X.columns"
   ]
  },
  {
   "cell_type": "code",
   "execution_count": 53,
   "id": "d5f5c898",
   "metadata": {},
   "outputs": [],
   "source": [
    "index = ['log_Intercepto', 'log_Lenght1', 'log_Height', 'log_Width']"
   ]
  },
  {
   "cell_type": "code",
   "execution_count": 54,
   "id": "3c84f8b1",
   "metadata": {},
   "outputs": [
    {
     "data": {
      "text/html": [
       "<div>\n",
       "<style scoped>\n",
       "    .dataframe tbody tr th:only-of-type {\n",
       "        vertical-align: middle;\n",
       "    }\n",
       "\n",
       "    .dataframe tbody tr th {\n",
       "        vertical-align: top;\n",
       "    }\n",
       "\n",
       "    .dataframe thead th {\n",
       "        text-align: right;\n",
       "    }\n",
       "</style>\n",
       "<table border=\"1\" class=\"dataframe\">\n",
       "  <thead>\n",
       "    <tr style=\"text-align: right;\">\n",
       "      <th></th>\n",
       "      <th>Parâmetros</th>\n",
       "    </tr>\n",
       "  </thead>\n",
       "  <tbody>\n",
       "    <tr>\n",
       "      <th>log_Intercepto</th>\n",
       "      <td>-2.023802</td>\n",
       "    </tr>\n",
       "    <tr>\n",
       "      <th>log_Lenght1</th>\n",
       "      <td>1.556938</td>\n",
       "    </tr>\n",
       "    <tr>\n",
       "      <th>log_Height</th>\n",
       "      <td>0.619179</td>\n",
       "    </tr>\n",
       "    <tr>\n",
       "      <th>log_Width</th>\n",
       "      <td>0.838093</td>\n",
       "    </tr>\n",
       "  </tbody>\n",
       "</table>\n",
       "</div>"
      ],
      "text/plain": [
       "                Parâmetros\n",
       "log_Intercepto   -2.023802\n",
       "log_Lenght1       1.556938\n",
       "log_Height        0.619179\n",
       "log_Width         0.838093"
      ]
     },
     "execution_count": 54,
     "metadata": {},
     "output_type": "execute_result"
    }
   ],
   "source": [
    "pd.DataFrame(data = np.append(modelo.intercept_, modelo.coef_), index = index, columns = ['Parâmetros'])"
   ]
  },
  {
   "cell_type": "code",
   "execution_count": 55,
   "id": "64c98e7f",
   "metadata": {},
   "outputs": [],
   "source": [
    "y_previsto_train = modelo.predict(X_train)"
   ]
  },
  {
   "cell_type": "code",
   "execution_count": 56,
   "id": "57865617",
   "metadata": {},
   "outputs": [
    {
     "data": {
      "text/plain": [
       "<AxesSubplot:title={'center':'Previsão X Real'}, xlabel='log Peso - Previsão', ylabel='log Peso - Real'>"
      ]
     },
     "execution_count": 56,
     "metadata": {},
     "output_type": "execute_result"
    },
    {
     "data": {
      "image/png": "[encoded data removed]",
      "text/plain": [
       "<Figure size 864x432 with 1 Axes>"
      ]
     },
     "metadata": {
      "needs_background": "light"
     },
     "output_type": "display_data"
    }
   ],
   "source": [
    "ax = sns.scatterplot(x = y_previsto_train, y = y_train)\n",
    "ax.figure.set_size_inches(12, 6)\n",
    "ax.set_title('Previsão X Real', fontsize=18)\n",
    "ax.set_xlabel('log Peso - Previsão', fontsize=14)\n",
    "ax.set_ylabel('log Peso - Real', fontsize=14)\n",
    "ax"
   ]
  },
  {
   "cell_type": "code",
   "execution_count": 57,
   "id": "25dc96ff",
   "metadata": {},
   "outputs": [],
   "source": [
    "residuo = y_train - y_previsto_train"
   ]
  },
  {
   "cell_type": "code",
   "execution_count": 58,
   "id": "c821c4aa",
   "metadata": {},
   "outputs": [
    {
     "data": {
      "text/plain": [
       "<AxesSubplot:title={'center':'Distribuição de Frequências dos Resíduos'}, xlabel='Weight', ylabel='Density'>"
      ]
     },
     "execution_count": 58,
     "metadata": {},
     "output_type": "execute_result"
    },
    {
     "data": {
      "image/png": "[encoded data removed]",
      "text/plain": [
       "<Figure size 864x432 with 1 Axes>"
      ]
     },
     "metadata": {
      "needs_background": "light"
     },
     "output_type": "display_data"
    }
   ],
   "source": [
    "ax = sns.distplot(residuo)\n",
    "ax.figure.set_size_inches(12, 6)\n",
    "ax.set_title('Distribuição de Frequências dos Resíduos', fontsize=18)\n",
    "ax.set_xlabel('Weight', fontsize=14)\n",
    "ax"
   ]
  }
 ],
 "metadata": {
  "kernelspec": {
   "display_name": "Python 3 (ipykernel)",
   "language": "python",
   "name": "python3"
  },
  "language_info": {
   "codemirror_mode": {
    "name": "ipython",
    "version": 3
   },
   "file_extension": ".py",
   "mimetype": "text/x-python",
   "name": "python",
   "nbconvert_exporter": "python",
   "pygments_lexer": "ipython3",
   "version": "3.9.12"
  }
 },
 "nbformat": 4,
 "nbformat_minor": 5
}
